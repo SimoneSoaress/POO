{
  "nbformat": 4,
  "nbformat_minor": 0,
  "metadata": {
    "colab": {
      "provenance": []
    },
    "kernelspec": {
      "name": "python3",
      "display_name": "Python 3"
    },
    "language_info": {
      "name": "python"
    }
  },
  "cells": [
    {
      "cell_type": "markdown",
      "source": [
        "# SIMONE MAYARA DUARTE SOARES\n",
        "## ANÁLISE E DESENVOLVIMENTO DE SISTEMAS\n",
        "### RA: 039.2.23.036"
      ],
      "metadata": {
        "id": "4dQu26QoKuGH"
      }
    },
    {
      "cell_type": "code",
      "execution_count": 2,
      "metadata": {
        "id": "9rizG-XCKmvy"
      },
      "outputs": [],
      "source": [
        "from abc import ABC, abstractmethod\n",
        "\n",
        "# Criação da Classe abstrata Funcionario\n",
        "class Funcionario(ABC):\n",
        "    def __init__(self, nome, matricula, salario_base):\n",
        "        self._nome = nome\n",
        "        self._matricula = matricula\n",
        "        self._salario_base = salario_base\n",
        "\n",
        "    @property\n",
        "    def nome(self):\n",
        "        return self._nome\n",
        "\n",
        "    @property\n",
        "    def matricula(self):\n",
        "        return self._matricula\n",
        "\n",
        "    @property\n",
        "    def salario_base(self):\n",
        "        return self._salario_base\n",
        "\n",
        "    @abstractmethod\n",
        "    def calculaSalario(self):\n",
        "        pass\n",
        "\n",
        "# Criação da Classe Gerente\n",
        "class Gerente(Funcionario):\n",
        "    def calculaSalario(self):\n",
        "        return 2 * self.salario_base\n",
        "\n",
        "# Criação da Classe Assistente\n",
        "class Assistente(Funcionario):\n",
        "    def calculaSalario(self):\n",
        "        return self.salario_base\n",
        "\n",
        "# Criação da Classe Vendedor\n",
        "class Vendedor(Funcionario):\n",
        "    def __init__(self, nome, matricula, salario_base, comissao):\n",
        "        super().__init__(nome, matricula, salario_base)\n",
        "        self._comissao = comissao\n",
        "\n",
        "    @property\n",
        "    def comissao(self):\n",
        "        return self._comissao\n",
        "\n",
        "    def calculaSalario(self):\n",
        "        return self.salario_base + self.comissao"
      ]
    },
    {
      "cell_type": "code",
      "source": [
        "from abc import ABC, abstractmethod\n",
        "import math\n",
        "\n",
        "# Criaçã da interface IFigura\n",
        "class IFigura(ABC):\n",
        "    @abstractmethod\n",
        "    def calculaArea(self):\n",
        "        pass\n",
        "\n",
        "    @abstractmethod\n",
        "    def calculaPerimetro(self):\n",
        "        pass\n",
        "\n",
        "# Classe Circulo\n",
        "class Circulo(IFigura):\n",
        "    def __init__(self, raio):\n",
        "        self._raio = raio\n",
        "\n",
        "    @property\n",
        "    def raio(self):\n",
        "        return self._raio\n",
        "\n",
        "    def calculaArea(self):\n",
        "        return math.pi * self.raio ** 2\n",
        "\n",
        "    def calculaPerimetro(self):\n",
        "        return 2 * math.pi * self.raio\n",
        "\n",
        "# Classe Retangulo\n",
        "class Retangulo(IFigura):\n",
        "    def __init__(self, base, altura):\n",
        "        self._base = base\n",
        "        self._altura = altura\n",
        "\n",
        "    @property\n",
        "    def base(self):\n",
        "        return self._base\n",
        "\n",
        "    @property\n",
        "    def altura(self):\n",
        "        return self._altura\n",
        "\n",
        "    def calculaArea(self):\n",
        "        return self.base * self.altura\n",
        "\n",
        "    def calculaPerimetro(self):\n",
        "        return 2 * (self.base + self.altura)"
      ],
      "metadata": {
        "id": "nPoOjEf-OEeA"
      },
      "execution_count": 3,
      "outputs": []
    }
  ]
}